{
 "cells": [
  {
   "cell_type": "code",
   "execution_count": 2,
   "metadata": {},
   "outputs": [
    {
     "data": {
      "application/vnd.jupyter.widget-view+json": {
       "model_id": "633050681469429fbab969ed2062f211",
       "version_major": 2,
       "version_minor": 0
      },
      "text/plain": [
       "interactive(children=(FloatSlider(value=0.9, description='LaBSE Threshold', max=1.0, step=0.01), FloatSlider(v…"
      ]
     },
     "metadata": {},
     "output_type": "display_data"
    },
    {
     "data": {
      "text/plain": [
       "<function __main__.plot_interactive(labse_threshold, laser_threshold)>"
      ]
     },
     "execution_count": 2,
     "metadata": {},
     "output_type": "execute_result"
    }
   ],
   "source": [
    "import pandas as pd\n",
    "import matplotlib.pyplot as plt\n",
    "from ipywidgets import interact\n",
    "import ipywidgets as widgets\n",
    "\n",
    "# Load the LabSE and LASER scores\n",
    "labse_file_path = 'sim/wol-eng-labse-sim_scores.txt'\n",
    "laser_file_path = 'sim/wol-eng-laser-sim-scores.txt'\n",
    "vref_file_path = 'references/vref.txt'\n",
    "\n",
    "# Read files\n",
    "labse_scores = pd.read_csv(labse_file_path, header=None)\n",
    "laser_scores = pd.read_csv(laser_file_path, header=None)\n",
    "vref = pd.read_csv(vref_file_path, sep=\" \", header=None)\n",
    "\n",
    "# Prepare the scatter plot data\n",
    "verses = vref[0]  # Assuming the first column is the verse reference\n",
    "labse_scores.columns = ['LaBSE']\n",
    "laser_scores.columns = ['LASER']\n",
    "\n",
    "# Prepare the merged dataframe\n",
    "df = pd.DataFrame({'Verses': verses, 'LaBSE': labse_scores['LaBSE'], 'LASER': laser_scores['LASER']})\n",
    "\n",
    "# Function to create a plot with slider input\n",
    "def plot_interactive(labse_threshold, laser_threshold):\n",
    "    # Define the highlight condition based on the thresholds\n",
    "    highlight_condition = (df['LaBSE'] > labse_threshold) & (df['LASER'] > laser_threshold)\n",
    "    \n",
    "    # Create the scatter plot\n",
    "    plt.figure(figsize=(10, 6))\n",
    "    plt.scatter(df['LaBSE'], df['LASER'], c='blue', alpha=0.5, label='Regular Verses')\n",
    "    \n",
    "    # Highlight the specific verses\n",
    "    plt.scatter(df['LaBSE'][highlight_condition], df['LASER'][highlight_condition], \n",
    "                c='red', alpha=0.8, label='Highlighted Verses')\n",
    "    \n",
    "    # Add titles and labels\n",
    "    plt.title(f\"Scatter Plot of LaBSE vs LASER Scores (Thresholds: LaBSE > {labse_threshold}, LASER > {laser_threshold})\")\n",
    "    plt.xlabel(\"LaBSE Scores\")\n",
    "    plt.ylabel(\"LASER Scores\")\n",
    "    plt.legend()\n",
    "    \n",
    "    # Show the plot\n",
    "    plt.show()\n",
    "\n",
    "# Create sliders for LaBSE and LASER thresholds\n",
    "interact(plot_interactive, \n",
    "         labse_threshold=widgets.FloatSlider(value=0.9, min=0, max=1, step=0.01, description='LaBSE Threshold'),\n",
    "         laser_threshold=widgets.FloatSlider(value=0.9, min=0, max=1, step=0.01, description='LASER Threshold'))\n"
   ]
  },
  {
   "cell_type": "code",
   "execution_count": null,
   "metadata": {},
   "outputs": [],
   "source": []
  }
 ],
 "metadata": {
  "kernelspec": {
   "display_name": "cenv",
   "language": "python",
   "name": "python3"
  },
  "language_info": {
   "codemirror_mode": {
    "name": "ipython",
    "version": 3
   },
   "file_extension": ".py",
   "mimetype": "text/x-python",
   "name": "python",
   "nbconvert_exporter": "python",
   "pygments_lexer": "ipython3",
   "version": "3.10.14"
  }
 },
 "nbformat": 4,
 "nbformat_minor": 2
}
